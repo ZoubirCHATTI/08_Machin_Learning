{
  "nbformat": 4,
  "nbformat_minor": 0,
  "metadata": {
    "colab": {
      "provenance": [],
      "authorship_tag": "ABX9TyP60bwpVK0JfjE2PQnqBCeg",
      "include_colab_link": true
    },
    "kernelspec": {
      "name": "python3",
      "display_name": "Python 3"
    },
    "language_info": {
      "name": "python"
    }
  },
  "cells": [
    {
      "cell_type": "markdown",
      "metadata": {
        "id": "view-in-github",
        "colab_type": "text"
      },
      "source": [
        "<a href=\"https://colab.research.google.com/github/ZoubirCHATTI/08_Machin_Learning/blob/main/03_MNIST_images_classification/MNIST_Images_classification.ipynb\" target=\"_parent\"><img src=\"https://colab.research.google.com/assets/colab-badge.svg\" alt=\"Open In Colab\"/></a>"
      ]
    },
    {
      "cell_type": "markdown",
      "source": [
        "# **Classification of MNIST dataset images**\n",
        "This project focuses on building and evaluating a Deep Learning model to solve a fundamental problem in computer vision: handwritten digit classification. We'll utilize the MNIST (Modified National Institute of Standards and Technology) dataset, which is often considered the \"Hello World\" of Deep Learning due to its accessibility and role in benchmarking classification algorithms.The dataset consists of 60,000 training images and 10,000 test images, each being a $28 \\times 28$ pixel grayscale image of a handwritten digit (from $0$ to $9$). The objective is to train a deep neural network model DNN to accurately map each image input to its corresponding numerical label (the true content of the image). The success of this classification model will demonstrate basic proficiency in image processing and neural network construction."
      ],
      "metadata": {
        "id": "QVoET2oHXGfL"
      }
    },
    {
      "cell_type": "code",
      "execution_count": 1,
      "metadata": {
        "id": "V-1dJ5WHKlSV"
      },
      "outputs": [],
      "source": [
        "#Importing necessary libraries\n",
        "import numpy as np\n",
        "import matplotlib.pyplot as plt\n",
        "import tensorflow as tf\n",
        "from tensorflow.keras.datasets import mnist\n",
        "from tensorflow.keras.layers import Dense\n",
        "from tensorflow.keras.models import Sequential\n",
        "from tensorflow.keras.callbacks import EarlyStopping\n",
        "from sklearn.model_selection import train_test_split"
      ]
    },
    {
      "cell_type": "code",
      "source": [
        "#Loading data\n",
        "(train_data, train_labels), (temp_data, temp_labels)=mnist.load_data()"
      ],
      "metadata": {
        "colab": {
          "base_uri": "https://localhost:8080/"
        },
        "id": "JAMDEi-WKtM9",
        "outputId": "b54e66fe-c3a7-493f-a738-fc9061943dfc"
      },
      "execution_count": 2,
      "outputs": [
        {
          "output_type": "stream",
          "name": "stdout",
          "text": [
            "Downloading data from https://storage.googleapis.com/tensorflow/tf-keras-datasets/mnist.npz\n",
            "\u001b[1m11490434/11490434\u001b[0m \u001b[32m━━━━━━━━━━━━━━━━━━━━\u001b[0m\u001b[37m\u001b[0m \u001b[1m0s\u001b[0m 0us/step\n"
          ]
        }
      ]
    },
    {
      "cell_type": "code",
      "source": [
        "#Displaying example image\n",
        "plt.figure()\n",
        "plt.imshow(train_data[4], cmap='gray')\n",
        "plt.axis(False)\n",
        "print(f\"The image contains the number: {int(train_labels[4])}\")"
      ],
      "metadata": {
        "colab": {
          "base_uri": "https://localhost:8080/",
          "height": 423
        },
        "id": "1poQlKpGTx7b",
        "outputId": "cf2d8f36-b806-4be9-e92d-458f1018db68"
      },
      "execution_count": 3,
      "outputs": [
        {
          "output_type": "stream",
          "name": "stdout",
          "text": [
            "The image contains the number: 9\n"
          ]
        },
        {
          "output_type": "display_data",
          "data": {
            "text/plain": [
              "<Figure size 640x480 with 1 Axes>"
            ],
            "image/png": "[encoded data removed]"
          },
          "metadata": {}
        }
      ]
    },
    {
      "cell_type": "code",
      "source": [
        "#Splitting data to test and valisation datasets\n",
        "X_test, X_val, Y_test, Y_val=train_test_split(temp_data, temp_labels, test_size=0.2)"
      ],
      "metadata": {
        "id": "1Zc3T5j-Ld7_"
      },
      "execution_count": 4,
      "outputs": []
    },
    {
      "cell_type": "code",
      "source": [
        "#Checking test and valoidation datasets shapes\n",
        "print(f\"Validation dataset shape: {X_val.shape}\")\n",
        "print(f\"\\nTest dataset shape: {X_test.shape}\")"
      ],
      "metadata": {
        "colab": {
          "base_uri": "https://localhost:8080/"
        },
        "id": "cBrHaNZHO4LL",
        "outputId": "54d2c865-c606-4460-a74f-053b4898c477"
      },
      "execution_count": 5,
      "outputs": [
        {
          "output_type": "stream",
          "name": "stdout",
          "text": [
            "Validation dataset shape: (2000, 28, 28)\n",
            "\n",
            "Test dataset shape: (8000, 28, 28)\n"
          ]
        }
      ]
    },
    {
      "cell_type": "code",
      "source": [
        "#Falttening/Normalizing the input to be compatible with DNN requirements\n",
        "train_data=train_data.reshape(60000, 28*28).astype('float32')/255\n",
        "X_test=X_test.reshape(8000, 28*28).astype('float32')/255\n",
        "X_val=X_val.reshape(2000, 28*28).astype('float32')/255"
      ],
      "metadata": {
        "id": "OZfxCCdHOzvF"
      },
      "execution_count": 16,
      "outputs": []
    },
    {
      "cell_type": "code",
      "source": [
        "#Defining a function that transforms the labels dataset to a binary matrix\n",
        "def to_one_hot (sequence, dimension):\n",
        "  results=np.zeros((len(sequence), dimension))\n",
        "  for i, seq in enumerate(sequence):\n",
        "    results[i , seq]=1\n",
        "  return results"
      ],
      "metadata": {
        "id": "DLT6Wc-5MWEB"
      },
      "execution_count": 7,
      "outputs": []
    },
    {
      "cell_type": "code",
      "source": [
        "#Transforming the label datasets to bianary matrices\n",
        "train_labels_vec=to_one_hot(train_labels, 10)\n",
        "Y_test_vec=to_one_hot(Y_test, 10)\n",
        "Y_val_vec=to_one_hot(Y_val, 10)"
      ],
      "metadata": {
        "id": "d8J_BX-_NNGN"
      },
      "execution_count": 8,
      "outputs": []
    },
    {
      "cell_type": "code",
      "source": [
        "#Mounting the DNN model\n",
        "model=Sequential()\n",
        "model.add(Dense(512, activation='relu', input_shape=(28*28,)))\n",
        "model.add(Dense(10, activation='softmax'))"
      ],
      "metadata": {
        "colab": {
          "base_uri": "https://localhost:8080/"
        },
        "id": "nv8mJl-kNTwX",
        "outputId": "aca01c4b-85a6-4fdc-bfcc-0c6b69a9c17c"
      },
      "execution_count": 9,
      "outputs": [
        {
          "output_type": "stream",
          "name": "stderr",
          "text": [
            "/usr/local/lib/python3.12/dist-packages/keras/src/layers/core/dense.py:93: UserWarning: Do not pass an `input_shape`/`input_dim` argument to a layer. When using Sequential models, prefer using an `Input(shape)` object as the first layer in the model instead.\n",
            "  super().__init__(activity_regularizer=activity_regularizer, **kwargs)\n"
          ]
        }
      ]
    },
    {
      "cell_type": "code",
      "source": [
        "#Compiling the model\n",
        "model.compile(optimizer='adam', loss='binary_crossentropy', metrics=['accuracy'])\n",
        "\n",
        "#Defining the stop criterion\n",
        "early_stop=EarlyStopping(monitor='val_loss', patience=2 )"
      ],
      "metadata": {
        "id": "UeNEBwi3Nvu1"
      },
      "execution_count": 10,
      "outputs": []
    },
    {
      "cell_type": "code",
      "source": [
        " #Running  the model training\n",
        "history=model.fit(train_data, train_labels_vec, epochs=10, batch_size=128,validation_data=(X_val, Y_val_vec), callbacks=[early_stop])"
      ],
      "metadata": {
        "colab": {
          "base_uri": "https://localhost:8080/"
        },
        "id": "78IDrPZIN4mg",
        "outputId": "a20cf01e-061f-4f09-9d8f-ec8c7f1b4b43"
      },
      "execution_count": 11,
      "outputs": [
        {
          "output_type": "stream",
          "name": "stdout",
          "text": [
            "Epoch 1/10\n",
            "\u001b[1m469/469\u001b[0m \u001b[32m━━━━━━━━━━━━━━━━━━━━\u001b[0m\u001b[37m\u001b[0m \u001b[1m8s\u001b[0m 15ms/step - accuracy: 0.8210 - loss: 0.1237 - val_accuracy: 0.9460 - val_loss: 4.2963\n",
            "Epoch 2/10\n",
            "\u001b[1m469/469\u001b[0m \u001b[32m━━━━━━━━━━━━━━━━━━━━\u001b[0m\u001b[37m\u001b[0m \u001b[1m10s\u001b[0m 14ms/step - accuracy: 0.9561 - loss: 0.0316 - val_accuracy: 0.9635 - val_loss: 3.2667\n",
            "Epoch 3/10\n",
            "\u001b[1m469/469\u001b[0m \u001b[32m━━━━━━━━━━━━━━━━━━━━\u001b[0m\u001b[37m\u001b[0m \u001b[1m5s\u001b[0m 11ms/step - accuracy: 0.9729 - loss: 0.0204 - val_accuracy: 0.9685 - val_loss: 2.8383\n",
            "Epoch 4/10\n",
            "\u001b[1m469/469\u001b[0m \u001b[32m━━━━━━━━━━━━━━━━━━━━\u001b[0m\u001b[37m\u001b[0m \u001b[1m5s\u001b[0m 9ms/step - accuracy: 0.9811 - loss: 0.0150 - val_accuracy: 0.9710 - val_loss: 2.7898\n",
            "Epoch 5/10\n",
            "\u001b[1m469/469\u001b[0m \u001b[32m━━━━━━━━━━━━━━━━━━━━\u001b[0m\u001b[37m\u001b[0m \u001b[1m5s\u001b[0m 12ms/step - accuracy: 0.9857 - loss: 0.0119 - val_accuracy: 0.9695 - val_loss: 2.9556\n",
            "Epoch 6/10\n",
            "\u001b[1m469/469\u001b[0m \u001b[32m━━━━━━━━━━━━━━━━━━━━\u001b[0m\u001b[37m\u001b[0m \u001b[1m4s\u001b[0m 9ms/step - accuracy: 0.9889 - loss: 0.0095 - val_accuracy: 0.9720 - val_loss: 2.6223\n",
            "Epoch 7/10\n",
            "\u001b[1m469/469\u001b[0m \u001b[32m━━━━━━━━━━━━━━━━━━━━\u001b[0m\u001b[37m\u001b[0m \u001b[1m4s\u001b[0m 9ms/step - accuracy: 0.9919 - loss: 0.0075 - val_accuracy: 0.9745 - val_loss: 2.7013\n",
            "Epoch 8/10\n",
            "\u001b[1m469/469\u001b[0m \u001b[32m━━━━━━━━━━━━━━━━━━━━\u001b[0m\u001b[37m\u001b[0m \u001b[1m6s\u001b[0m 11ms/step - accuracy: 0.9936 - loss: 0.0063 - val_accuracy: 0.9760 - val_loss: 2.4920\n",
            "Epoch 9/10\n",
            "\u001b[1m469/469\u001b[0m \u001b[32m━━━━━━━━━━━━━━━━━━━━\u001b[0m\u001b[37m\u001b[0m \u001b[1m4s\u001b[0m 9ms/step - accuracy: 0.9953 - loss: 0.0052 - val_accuracy: 0.9810 - val_loss: 2.3804\n",
            "Epoch 10/10\n",
            "\u001b[1m469/469\u001b[0m \u001b[32m━━━━━━━━━━━━━━━━━━━━\u001b[0m\u001b[37m\u001b[0m \u001b[1m6s\u001b[0m 11ms/step - accuracy: 0.9972 - loss: 0.0039 - val_accuracy: 0.9785 - val_loss: 2.3242\n"
          ]
        }
      ]
    },
    {
      "cell_type": "code",
      "source": [
        "#Evaluation of the model performance\n",
        "loss, accuracy=model.evaluate(X_test, Y_test_vec)\n",
        "print(f\"test loss: {loss:.3f}\")\n",
        "print(f\"test accuracy: {accuracy*100:.3f}%\")"
      ],
      "metadata": {
        "colab": {
          "base_uri": "https://localhost:8080/"
        },
        "id": "OCzLnPoJQbqh",
        "outputId": "e024216a-c6a0-4e7b-96c3-e06700c95b2f"
      },
      "execution_count": 12,
      "outputs": [
        {
          "output_type": "stream",
          "name": "stdout",
          "text": [
            "\u001b[1m250/250\u001b[0m \u001b[32m━━━━━━━━━━━━━━━━━━━━\u001b[0m\u001b[37m\u001b[0m \u001b[1m1s\u001b[0m 3ms/step - accuracy: 0.9850 - loss: 1.9808\n",
            "test loss: 2.089\n",
            "test accuracy: 98.362%\n"
          ]
        }
      ]
    },
    {
      "cell_type": "code",
      "source": [
        "#Extracting model evaluation parameters\n",
        "history_dict=history.history\n",
        "train_loss=history_dict['loss']\n",
        "val_loss=history_dict['val_loss']\n",
        "train_acc=history_dict['accuracy']\n",
        "val_acc=history_dict['val_accuracy']\n",
        "epochs=range(1, len(train_loss)+1)"
      ],
      "metadata": {
        "id": "uMOFDaqdPdGQ"
      },
      "execution_count": 13,
      "outputs": []
    },
    {
      "cell_type": "code",
      "source": [
        "#Displaying loss and accuracy aginst epochs\n",
        "plt.figure(figsize=(12 ,6))\n",
        "plt.subplot(1 , 2 , 1)\n",
        "plt.plot(epochs, train_loss, marker='+', color='r', label='train_loss')\n",
        "plt.plot(epochs, val_loss, marker='*', color='b', label='val_loss')\n",
        "plt.xlabel('Epochs')\n",
        "plt.ylabel('Loss')\n",
        "plt.legend()\n",
        "plt.grid(True)\n",
        "plt.subplot(1 , 2 , 2)\n",
        "plt.plot(epochs, train_acc, marker='+', color='r', label='train_acc')\n",
        "plt.plot(epochs, val_acc, marker='*', color='b', label='val_acc')\n",
        "plt.xlabel('Epochs')\n",
        "plt.ylabel('Accuracy')\n",
        "plt.legend()\n",
        "plt.grid(True)\n",
        "plt.tight_layout()"
      ],
      "metadata": {
        "colab": {
          "base_uri": "https://localhost:8080/",
          "height": 607
        },
        "id": "8z0TEXc9Pr7p",
        "outputId": "7ac80677-612b-4483-d464-33479858bf66"
      },
      "execution_count": 14,
      "outputs": [
        {
          "output_type": "display_data",
          "data": {
            "text/plain": [
              "<Figure size 1200x600 with 2 Axes>"
            ],
            "image/png": "[encoded data removed]"
          },
          "metadata": {}
        }
      ]
    },
    {
      "cell_type": "code",
      "source": [
        "#Comparing with random assignment\n",
        "import copy\n",
        "Y_test_vec_copy=copy.deepcopy(Y_test_vec)\n",
        "np.random.shuffle(Y_test_vec_copy)\n",
        "compare=np.array(Y_test_vec)== Y_test_vec_copy\n",
        "print(f\"Random accuracy={compare.mean()*100:.2f}%\\nModel accuracy={accuracy*100:.2f}% \")"
      ],
      "metadata": {
        "colab": {
          "base_uri": "https://localhost:8080/"
        },
        "id": "m-66xD1jQNj2",
        "outputId": "6273e0ec-e728-4ca1-8227-349a6c61d4b1"
      },
      "execution_count": 15,
      "outputs": [
        {
          "output_type": "stream",
          "name": "stdout",
          "text": [
            "Random accuracy=82.02%\n",
            "Model accuracy=98.36% \n"
          ]
        }
      ]
    }
  ]
}
